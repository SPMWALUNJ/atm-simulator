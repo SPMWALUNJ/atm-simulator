{
  "nbformat": 4,
  "nbformat_minor": 0,
  "metadata": {
    "colab": {
      "provenance": [],
      "toc_visible": true,
      "authorship_tag": "ABX9TyOzDjmQhr1kDAKeisKoLWQy",
      "include_colab_link": true
    },
    "kernelspec": {
      "name": "python3",
      "display_name": "Python 3"
    },
    "language_info": {
      "name": "python"
    }
  },
  "cells": [
    {
      "cell_type": "markdown",
      "metadata": {
        "id": "view-in-github",
        "colab_type": "text"
      },
      "source": [
        "<a href=\"https://colab.research.google.com/github/SPMWALUNJ/atm-simulator/blob/main/atm_simulator.ipynb\" target=\"_parent\"><img src=\"https://colab.research.google.com/assets/colab-badge.svg\" alt=\"Open In Colab\"/></a>"
      ]
    },
    {
      "cell_type": "code",
      "execution_count": null,
      "metadata": {
        "colab": {
          "base_uri": "https://localhost:8080/"
        },
        "id": "zzxhmwYXeAvX",
        "outputId": "df4de612-6f90-48ac-e83b-4bc4ebd26a76"
      },
      "outputs": [
        {
          "output_type": "stream",
          "name": "stdout",
          "text": [
            "\n",
            "            ***** Welcome To ATM Machine Simulator *****\n",
            "         \n"
          ]
        }
      ],
      "source": [
        "def atm_simulation():\n",
        "\n",
        "    balance=10000\n",
        "    correct_pin = 65566\n",
        "    print('''\n",
        "            ***** Welcome To ATM Machine Simulator *****\n",
        "         ''')\n",
        "\n",
        "    pin=int(input('Enter Your Pin: '))\n",
        "    if pin!=correct_pin:\n",
        "      print(\"Incorrect pin\")\n",
        "      print(\"Thank you\")\n",
        "      return\n",
        "    while True:\n",
        "      print('''\n",
        "              choose below options:\n",
        "              1) Balance\n",
        "              2) Withdraw\n",
        "              3) Deposit\n",
        "              4) Exit\n",
        "          ''')\n",
        "      choose=int(input('Select Your Transaction from the above options: '))\n",
        "      if choose==1:\n",
        "          print(f'Available A/C Balance Is {balance}')\n",
        "      elif choose==2:\n",
        "          withdraw=int(input('Enter Amount: '))\n",
        "          if withdraw<=balance:\n",
        "              balance-=withdraw\n",
        "              print(f'Your availabe balance is {balance}')\n",
        "          else:\n",
        "              print('Insufficient Balance')\n",
        "      elif choose==3:\n",
        "          amount=int(input('Enter Amount: '))\n",
        "          balance+=amount\n",
        "          print(f'New Balance is {balance}')\n",
        "      elif choose==4:\n",
        "          print(\"Thank you!\")\n",
        "          break\n",
        "      else:\n",
        "          print('No Selected Transaction')\n",
        "\n",
        "    return\n",
        "\n",
        "\n",
        "\n",
        "atm_simulation()"
      ]
    }
  ]
}